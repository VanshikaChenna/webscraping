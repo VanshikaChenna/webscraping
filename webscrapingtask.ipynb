{
  "nbformat": 4,
  "nbformat_minor": 0,
  "metadata": {
    "colab": {
      "provenance": []
    },
    "kernelspec": {
      "name": "python3",
      "display_name": "Python 3"
    },
    "language_info": {
      "name": "python"
    }
  },
  "cells": [
    {
      "cell_type": "code",
      "execution_count": null,
      "metadata": {
        "id": "pgVzNbUirBKy"
      },
      "outputs": [],
      "source": [
        "import requests\n",
        "import pandas as pd\n"
      ]
    },
    {
      "cell_type": "code",
      "source": [
        "from bs4 import BeautifulSoup\n",
        "from urllib.parse import unquote"
      ],
      "metadata": {
        "id": "Hq-vbv1zro0s"
      },
      "execution_count": null,
      "outputs": []
    },
    {
      "cell_type": "code",
      "source": [
        "url=\"https://med.stanford.edu/neurology/faculty/overview.html?tab=proxy\"\n",
        "res=requests.get(url)"
      ],
      "metadata": {
        "id": "4GmFZr2Irvru"
      },
      "execution_count": null,
      "outputs": []
    },
    {
      "cell_type": "code",
      "source": [
        "content=BeautifulSoup(res.content)"
      ],
      "metadata": {
        "id": "uAng_B1Rr2VC"
      },
      "execution_count": null,
      "outputs": []
    },
    {
      "cell_type": "code",
      "source": [
        "rows = content.find_all(\"div\", class_=\"panel_builder parbase section\")\n",
        "faculty_data = []\n",
        "\n",
        "for row in rows:\n",
        "    details = row.find_all('p')\n",
        "\n",
        "     comma_index = detail.text.find(\",\")\n",
        "        newline_index = detail.text.find(\"\\n\")\n",
        "        index = comma_index if comma_index != -1 else newline_index\n",
        "        name = detail.text[0:index]\n",
        "\n",
        "\n",
        "    for detail in details:\n",
        "        link_a = detail.find(\"a\")\n",
        "        profile_emails = []\n",
        "        profile_links = []\n",
        "\n",
        "        if link_a:\n",
        "            link = link_a['href']\n",
        "            res_profile = requests.get(link)\n",
        "            content_profile = BeautifulSoup(res_profile.content)\n",
        "            contact = content_profile.find(\"div\", class_=\"contact sidebar-block\")\n",
        "\n",
        "            if contact:\n",
        "                emails = contact.find_all(\"a\")\n",
        "                for email in emails:\n",
        "                    personal_email = email.text\n",
        "                    profile_emails.append(personal_email)\n",
        "\n",
        "            links = content_profile.find(\"div\", class_=\"links sidebar-block\")\n",
        "            if links:\n",
        "                websites = links.find_all('a')\n",
        "                for website in websites:\n",
        "                    current_website = unquote(website['href'])\n",
        "\n",
        "                    profile_links.append(current_website)\n",
        "\n",
        "        comma_index = detail.text.find(\",\")\n",
        "        newline_index = detail.text.find(\"\\n\")\n",
        "        index = comma_index if comma_index != -1 else newline_index\n",
        "        name = detail.text[0:index]\n",
        "        faculty_data.append([name, ', '.join(profile_emails),  '/n'.join(profile_links)])"
      ],
      "metadata": {
        "id": "-VfAy7cMCY1Z"
      },
      "execution_count": null,
      "outputs": []
    },
    {
      "cell_type": "code",
      "source": [
        "df = pd.DataFrame(faculty_data, columns=['Name','Email','Links'])"
      ],
      "metadata": {
        "id": "JVNAmE_vvxoj"
      },
      "execution_count": null,
      "outputs": []
    },
    {
      "cell_type": "code",
      "source": [
        "df.to_csv('faculty_data.csv')\n",
        "df.to_excel('faculty_data.xlsx',index=False)"
      ],
      "metadata": {
        "id": "V6VDEoXIv1Fw"
      },
      "execution_count": null,
      "outputs": []
    }
  ]
}